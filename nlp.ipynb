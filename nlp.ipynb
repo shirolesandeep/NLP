{
 "cells": [
  {
   "cell_type": "code",
   "execution_count": 13,
   "id": "36b0eb14",
   "metadata": {},
   "outputs": [
    {
     "name": "stdout",
     "output_type": "stream",
     "text": [
      "Requirement already satisfied: moviepy in c:\\users\\lenovo\\anaconda3\\lib\\site-packages (1.0.3)\n",
      "Requirement already satisfied: numpy in c:\\users\\lenovo\\anaconda3\\lib\\site-packages (from moviepy) (1.20.1)\n",
      "Requirement already satisfied: proglog<=1.0.0 in c:\\users\\lenovo\\anaconda3\\lib\\site-packages (from moviepy) (0.1.9)\n",
      "Requirement already satisfied: tqdm<5.0,>=4.11.2 in c:\\users\\lenovo\\anaconda3\\lib\\site-packages (from moviepy) (4.59.0)\n",
      "Requirement already satisfied: imageio<3.0,>=2.5 in c:\\users\\lenovo\\anaconda3\\lib\\site-packages (from moviepy) (2.9.0)\n",
      "Requirement already satisfied: decorator<5.0,>=4.0.2 in c:\\users\\lenovo\\anaconda3\\lib\\site-packages (from moviepy) (4.4.2)\n",
      "Requirement already satisfied: imageio-ffmpeg>=0.2.0 in c:\\users\\lenovo\\anaconda3\\lib\\site-packages (from moviepy) (0.4.5)\n",
      "Requirement already satisfied: requests<3.0,>=2.8.1 in c:\\users\\lenovo\\anaconda3\\lib\\site-packages (from moviepy) (2.25.1)\n",
      "Requirement already satisfied: pillow in c:\\users\\lenovo\\anaconda3\\lib\\site-packages (from imageio<3.0,>=2.5->moviepy) (8.2.0)\n",
      "Requirement already satisfied: idna<3,>=2.5 in c:\\users\\lenovo\\anaconda3\\lib\\site-packages (from requests<3.0,>=2.8.1->moviepy) (2.10)\n",
      "Requirement already satisfied: certifi>=2017.4.17 in c:\\users\\lenovo\\anaconda3\\lib\\site-packages (from requests<3.0,>=2.8.1->moviepy) (2020.12.5)\n",
      "Requirement already satisfied: chardet<5,>=3.0.2 in c:\\users\\lenovo\\anaconda3\\lib\\site-packages (from requests<3.0,>=2.8.1->moviepy) (4.0.0)\n",
      "Requirement already satisfied: urllib3<1.27,>=1.21.1 in c:\\users\\lenovo\\anaconda3\\lib\\site-packages (from requests<3.0,>=2.8.1->moviepy) (1.26.4)\n",
      "Note: you may need to restart the kernel to use updated packages.\n"
     ]
    }
   ],
   "source": [
    "pip install moviepy"
   ]
  },
  {
   "cell_type": "code",
   "execution_count": 15,
   "id": "1c9319b4",
   "metadata": {},
   "outputs": [
    {
     "name": "stderr",
     "output_type": "stream",
     "text": [
      "chunk:   2%|█                                                             | 55/3247 [00:00<00:05, 549.94it/s, now=None]"
     ]
    },
    {
     "name": "stdout",
     "output_type": "stream",
     "text": [
      "MoviePy - Writing audio in C:/Hyper-dimension/Audio_file.wav\n"
     ]
    },
    {
     "name": "stderr",
     "output_type": "stream",
     "text": [
      "                                                                                                                       "
     ]
    },
    {
     "name": "stdout",
     "output_type": "stream",
     "text": [
      "MoviePy - Done.\n"
     ]
    },
    {
     "name": "stderr",
     "output_type": "stream",
     "text": [
      "\r"
     ]
    }
   ],
   "source": [
    "# Python code to convert video to audio \n",
    "import moviepy.editor as mp \n",
    "  \n",
    "# Insert Local Video File Path  \n",
    "clip = mp.VideoFileClip(r\"C:/Hyper-dimension/video.mp4\") \n",
    "  \n",
    "# Insert Local Audio File Path \n",
    "audio_clip = clip.audio.write_audiofile(r\"C:/Hyper-dimension/Audio_file.wav\")"
   ]
  },
  {
   "cell_type": "code",
   "execution_count": 16,
   "id": "c4ff2732",
   "metadata": {},
   "outputs": [
    {
     "name": "stdout",
     "output_type": "stream",
     "text": [
      "Requirement already satisfied: pydub in c:\\users\\lenovo\\anaconda3\\lib\\site-packages (0.25.1)\n",
      "Note: you may need to restart the kernel to use updated packages.\n"
     ]
    }
   ],
   "source": [
    "pip install pydub"
   ]
  },
  {
   "cell_type": "code",
   "execution_count": 17,
   "id": "9ff17945",
   "metadata": {},
   "outputs": [
    {
     "name": "stdout",
     "output_type": "stream",
     "text": [
      "Requirement already satisfied: winspeech in c:\\users\\lenovo\\anaconda3\\lib\\site-packages (1.0.1)\n",
      "Requirement already satisfied: pywin32 in c:\\users\\lenovo\\anaconda3\\lib\\site-packages (from winspeech) (227)\n",
      "Note: you may need to restart the kernel to use updated packages.\n"
     ]
    }
   ],
   "source": [
    "pip install winspeech"
   ]
  },
  {
   "cell_type": "code",
   "execution_count": 18,
   "id": "a72b9eea",
   "metadata": {},
   "outputs": [
    {
     "name": "stdout",
     "output_type": "stream",
     "text": [
      "Note: you may need to restart the kernel to use updated packages.\n"
     ]
    },
    {
     "name": "stderr",
     "output_type": "stream",
     "text": [
      "ERROR: Could not find a version that satisfies the requirement speech_recognition\n",
      "ERROR: No matching distribution found for speech_recognition\n"
     ]
    }
   ],
   "source": [
    "pip install speech_recognition"
   ]
  },
  {
   "cell_type": "code",
   "execution_count": 6,
   "id": "1574bb80",
   "metadata": {},
   "outputs": [
    {
     "name": "stdout",
     "output_type": "stream",
     "text": [
      "Requirement already satisfied: speechrecognition in c:\\users\\lenovo\\anaconda3\\lib\\site-packages (3.8.1)\n"
     ]
    }
   ],
   "source": [
    "! pip install --upgrade speechrecognition"
   ]
  },
  {
   "cell_type": "code",
   "execution_count": 9,
   "id": "301b1242",
   "metadata": {},
   "outputs": [
    {
     "name": "stdout",
     "output_type": "stream",
     "text": [
      "Note: you may need to restart the kernel to use updated packages.\n"
     ]
    },
    {
     "name": "stderr",
     "output_type": "stream",
     "text": [
      "WARNING: Requirement 'PyAudio-0.2.11-cp39-cp39-win_amd64.whl' looks like a filename, but the file does not exist\n",
      "ERROR: PyAudio-0.2.11-cp39-cp39-win_amd64.whl is not a supported wheel on this platform.\n"
     ]
    }
   ],
   "source": [
    "pip install PyAudio-0.2.11-cp39-cp39-win_amd64.whl"
   ]
  },
  {
   "cell_type": "code",
   "execution_count": 19,
   "id": "bcfd6a50",
   "metadata": {},
   "outputs": [],
   "source": [
    "import os \n",
    "from pydub import AudioSegment\n",
    "from pydub.silence import split_on_silence\n",
    "import speech_recognition as sr\n",
    "r = sr.Recognizer()"
   ]
  },
  {
   "cell_type": "code",
   "execution_count": 20,
   "id": "0a063933",
   "metadata": {},
   "outputs": [],
   "source": [
    "def get_large_audio_transcription(path):\n",
    "    \"\"\"\n",
    "    Splitting the large audio file into chunks\n",
    "    and apply speech recognition on each of these chunks\n",
    "    \"\"\"\n",
    "    # open the audio file using pydub\n",
    "    sound = AudioSegment.from_wav(path)  \n",
    "    # split audio sound where silence is 700 miliseconds or more and get chunks\n",
    "    chunks = split_on_silence(sound,\n",
    "        # experiment with this value for your target audio file\n",
    "        min_silence_len = 500,\n",
    "        # adjust this per requirement\n",
    "        silence_thresh = sound.dBFS-14,\n",
    "        # keep the silence for 1 second, adjustable as well\n",
    "        keep_silence=500,\n",
    "    )\n",
    "    folder_name = \"audio-chunks\"\n",
    "    # create a directory to store the audio chunks\n",
    "    if not os.path.isdir(folder_name):\n",
    "        os.mkdir(folder_name)\n",
    "    whole_text = \"\"\n",
    "    # process each chunk \n",
    "    for i, audio_chunk in enumerate(chunks, start=1):\n",
    "        # export audio chunk and save it in\n",
    "        # the `folder_name` directory.\n",
    "        chunk_filename = os.path.join(folder_name, f\"chunk{i}.wav\")\n",
    "        audio_chunk.export(chunk_filename, format=\"wav\")\n",
    "        # recognize the chunk\n",
    "        with sr.AudioFile(chunk_filename) as source:\n",
    "            audio_listened = r.record(source)\n",
    "            # try converting it to text\n",
    "            try:\n",
    "                text = r.recognize_google(audio_listened)\n",
    "            except sr.UnknownValueError as e:\n",
    "                print(\"Error:\", str(e))\n",
    "            else:\n",
    "                text = f\"{text.capitalize()}. \"\n",
    "                print(chunk_filename, \":\", text)\n",
    "                whole_text += text\n",
    "    # return the text for all chunks detected\n",
    "    return whole_text"
   ]
  },
  {
   "cell_type": "code",
   "execution_count": 22,
   "id": "a79e2611",
   "metadata": {},
   "outputs": [
    {
     "name": "stdout",
     "output_type": "stream",
     "text": [
      "audio-chunks\\chunk1.wav : Friends today i tell you how to do this hairstyle you want. \n",
      "audio-chunks\\chunk2.wav : Two clips. \n",
      "audio-chunks\\chunk3.wav : Like this i show you. \n",
      "Error: \n",
      "audio-chunks\\chunk5.wav : Like to clip in one black. \n",
      "audio-chunks\\chunk6.wav : The first tied with a poem. \n",
      "Error: \n",
      "Error: \n",
      "Error: \n",
      "audio-chunks\\chunk10.wav : Now you can see me. \n",
      "Error: \n",
      "Error: \n",
      "Error: \n",
      "Error: \n",
      "Error: \n",
      "Error: \n",
      "Error: \n",
      "Error: \n",
      "Error: \n",
      "Error: \n",
      "Error: \n",
      "Error: \n",
      "Error: \n",
      "Error: \n",
      "audio-chunks\\chunk25.wav : Aapko baat nahin. \n",
      "audio-chunks\\chunk26.wav : Comet. \n",
      "audio-chunks\\chunk27.wav : 10 school. \n",
      "Error: \n",
      "Error: \n",
      "Error: \n",
      "audio-chunks\\chunk31.wav : Tum. \n",
      "Error: \n",
      "Error: \n",
      "Error: \n",
      "Error: \n",
      "audio-chunks\\chunk36.wav : Back. \n",
      "audio-chunks\\chunk37.wav : Then. \n",
      "audio-chunks\\chunk38.wav : Can you tell me. \n",
      "audio-chunks\\chunk39.wav : 10. \n",
      "Error: \n",
      "Error: \n",
      "audio-chunks\\chunk42.wav : Our style is ready. \n",
      "audio-chunks\\chunk43.wav : You can see the hairstyle. \n",
      "audio-chunks\\chunk44.wav : Ok bye bye tata. \n"
     ]
    }
   ],
   "source": [
    "text = get_large_audio_transcription(\"C:/Hyper-dimension/Audio_file.wav\")"
   ]
  },
  {
   "cell_type": "code",
   "execution_count": null,
   "id": "63b399bd",
   "metadata": {},
   "outputs": [],
   "source": []
  }
 ],
 "metadata": {
  "kernelspec": {
   "display_name": "Python 3 (ipykernel)",
   "language": "python",
   "name": "python3"
  },
  "language_info": {
   "codemirror_mode": {
    "name": "ipython",
    "version": 3
   },
   "file_extension": ".py",
   "mimetype": "text/x-python",
   "name": "python",
   "nbconvert_exporter": "python",
   "pygments_lexer": "ipython3",
   "version": "3.9.7"
  }
 },
 "nbformat": 4,
 "nbformat_minor": 5
}
